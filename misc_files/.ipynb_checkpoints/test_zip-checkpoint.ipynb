{
 "cells": [
  {
   "cell_type": "code",
   "execution_count": 1,
   "metadata": {},
   "outputs": [],
   "source": [
    "import zipfile\n",
    "import os\n",
    "import csv\n",
    "from time import time as t\n",
    "import numpy as np\n",
    "import io\n",
    "\n",
    "t0 = t()"
   ]
  },
  {
   "cell_type": "code",
   "execution_count": 2,
   "metadata": {},
   "outputs": [],
   "source": [
    "MAIN_PATH = 'D:/iso_data_final/'\n",
    "os.chdir(MAIN_PATH)\n",
    "\n",
    "NSAMPLES = 120*100000\n",
    "NTIMES = 100\n",
    "\n",
    "SING_KEYS = ['id', 'a', 'e', 'inc', 'Omega', 'omega', 'f', 'b']\n",
    "MULTI_KEYS = ['time', 'year', 'month', 'day', 'sid_time', 'ra', 'dec', \\\n",
    "             'az', 'alt', 'ra_sun', 'dec_sun', 'az_sun', 'alt_sun', \\\n",
    "             'x', 'y', 'z', 'vx', 'vy', 'vz', 'mag', 'dist']"
   ]
  },
  {
   "cell_type": "code",
   "execution_count": 3,
   "metadata": {
    "scrolled": true
   },
   "outputs": [],
   "source": [
    "def get_key(keyname):\n",
    "    if keyname in SING_KEYS:\n",
    "        key = np.array([])\n",
    "    else:\n",
    "        key = np.array([[]]).reshape(0, NTIMES)\n",
    "        \n",
    "    for zf in os.listdir():\n",
    "        key = np.concatenate((key, get_key_from_zip(keyname, zf)))\n",
    "    return key\n",
    "\n",
    "def get_key_from_zip(keyname, zf):\n",
    "    in_sing_keys = keyname in SING_KEYS\n",
    "    \n",
    "    if in_sing_keys:\n",
    "        ind = SING_KEYS.index(keyname)\n",
    "    else:\n",
    "        ind = MULTI_KEYS.index(keyname)\n",
    "            \n",
    "    with zipfile.ZipFile(zf, 'r') as z:\n",
    "        if in_sing_keys:\n",
    "            key = np.zeros(len(z.namelist()[1:]))\n",
    "        else:\n",
    "            key = np.zeros((len(z.namelist()[1:]), NTIMES))\n",
    "        \n",
    "        for i, tf in enumerate(z.namelist()[1:]):\n",
    "            with io.TextIOWrapper(z.open(tf, 'r')) as f:\n",
    "                reader = csv.reader(f)\n",
    "                rows = list(reader)\n",
    "                if in_sing_keys:\n",
    "                    key[i] = rows[1][ind]\n",
    "                else:\n",
    "                    key[i] = np.array(rows[4:])[:, ind]\n",
    "    \n",
    "    return np.array(key)"
   ]
  },
  {
   "cell_type": "code",
   "execution_count": 4,
   "metadata": {},
   "outputs": [
    {
     "name": "stdout",
     "output_type": "stream",
     "text": [
      "[ -0.99244016 -14.41838696 -33.90060288 ... -87.28196893  -3.7170685\n",
      " -60.36535093]\n",
      "Time (s): 1577.533\n"
     ]
    }
   ],
   "source": [
    "print(get_key('a'))\n",
    "print('Time (s): %.3f' %(t()-t0))"
   ]
  }
 ],
 "metadata": {
  "kernelspec": {
   "display_name": "Python 3",
   "language": "python",
   "name": "python3"
  },
  "language_info": {
   "codemirror_mode": {
    "name": "ipython",
    "version": 3
   },
   "file_extension": ".py",
   "mimetype": "text/x-python",
   "name": "python",
   "nbconvert_exporter": "python",
   "pygments_lexer": "ipython3",
   "version": "3.8.5"
  }
 },
 "nbformat": 4,
 "nbformat_minor": 4
}
