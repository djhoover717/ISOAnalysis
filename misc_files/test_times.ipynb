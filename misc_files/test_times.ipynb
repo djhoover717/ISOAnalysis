{
 "cells": [
  {
   "cell_type": "code",
   "execution_count": 1,
   "id": "29338690",
   "metadata": {},
   "outputs": [],
   "source": [
    "import numpy as np\n",
    "from astropy.time import Time\n",
    "from astropy.time import TimeDelta\n",
    "from astropy.coordinates import SkyCoord\n",
    "from astropy import units as u\n",
    "from time import time as t\n",
    "\n",
    "t0 = t()"
   ]
  },
  {
   "cell_type": "markdown",
   "id": "bcb5fdd8",
   "metadata": {},
   "source": [
    "# Initialize time object"
   ]
  },
  {
   "cell_type": "code",
   "execution_count": 2,
   "id": "7cb92500",
   "metadata": {},
   "outputs": [
    {
     "data": {
      "text/latex": [
       "$6^\\mathrm{h}43^\\mathrm{m}27.3351^\\mathrm{s}$"
      ],
      "text/plain": [
       "<Longitude 6.72425974 hourangle>"
      ]
     },
     "execution_count": 2,
     "metadata": {},
     "output_type": "execute_result"
    }
   ],
   "source": [
    "t1 = Time('2021-01-01 00:00:00', scale='utc', location=(0, 0))\n",
    "t1.sidereal_time('apparent')"
   ]
  },
  {
   "cell_type": "markdown",
   "id": "fe737fa7",
   "metadata": {},
   "source": [
    "# Get year, month, day, etc."
   ]
  },
  {
   "cell_type": "code",
   "execution_count": 3,
   "id": "5d463a6e",
   "metadata": {},
   "outputs": [
    {
     "name": "stdout",
     "output_type": "stream",
     "text": [
      "2021\n",
      "1\n",
      "1\n"
     ]
    }
   ],
   "source": [
    "print(t1.ymdhms.year)\n",
    "print(t1.ymdhms.month)\n",
    "print(t1.ymdhms.day)"
   ]
  },
  {
   "cell_type": "markdown",
   "id": "832b1897",
   "metadata": {},
   "source": [
    "# Add/subtract times"
   ]
  },
  {
   "cell_type": "code",
   "execution_count": 4,
   "id": "5c555b77",
   "metadata": {},
   "outputs": [
    {
     "data": {
      "text/latex": [
       "$6^\\mathrm{h}44^\\mathrm{m}17.472^\\mathrm{s}$"
      ],
      "text/plain": [
       "<Longitude 6.73818665 hourangle>"
      ]
     },
     "execution_count": 4,
     "metadata": {},
     "output_type": "execute_result"
    }
   ],
   "source": [
    "dt = TimeDelta(50.0, format='sec')\n",
    "t2 = t1 + dt\n",
    "t2.sidereal_time('apparent')"
   ]
  },
  {
   "cell_type": "markdown",
   "id": "dadad911",
   "metadata": {},
   "source": [
    "# Convert time into angle"
   ]
  },
  {
   "cell_type": "code",
   "execution_count": 5,
   "id": "f693a532",
   "metadata": {},
   "outputs": [
    {
     "data": {
      "text/latex": [
       "$1.76405\\mathrm{rad}$"
      ],
      "text/plain": [
       "<Longitude 1.76405314 rad>"
      ]
     },
     "execution_count": 5,
     "metadata": {},
     "output_type": "execute_result"
    }
   ],
   "source": [
    "t3 = t2.sidereal_time('apparent').to(u.radian)\n",
    "t3"
   ]
  },
  {
   "cell_type": "markdown",
   "id": "c4849c04",
   "metadata": {},
   "source": [
    "# Get value of angle"
   ]
  },
  {
   "cell_type": "code",
   "execution_count": 6,
   "id": "bd9c0629",
   "metadata": {},
   "outputs": [
    {
     "data": {
      "text/plain": [
       "1.7640531408335536"
      ]
     },
     "execution_count": 6,
     "metadata": {},
     "output_type": "execute_result"
    }
   ],
   "source": [
    "t4 = t3.value\n",
    "t4"
   ]
  },
  {
   "cell_type": "code",
   "execution_count": 7,
   "id": "971ee948",
   "metadata": {},
   "outputs": [
    {
     "name": "stdout",
     "output_type": "stream",
     "text": [
      "Time (s): 1.099062681\n"
     ]
    }
   ],
   "source": [
    "print('Time (s): %.9f' %(t() - t0))"
   ]
  }
 ],
 "metadata": {
  "kernelspec": {
   "display_name": "Python 3",
   "language": "python",
   "name": "python3"
  },
  "language_info": {
   "codemirror_mode": {
    "name": "ipython",
    "version": 3
   },
   "file_extension": ".py",
   "mimetype": "text/x-python",
   "name": "python",
   "nbconvert_exporter": "python",
   "pygments_lexer": "ipython3",
   "version": "3.9.1"
  }
 },
 "nbformat": 4,
 "nbformat_minor": 5
}
